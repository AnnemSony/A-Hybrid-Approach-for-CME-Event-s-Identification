{
 "cells": [
  {
   "cell_type": "code",
   "execution_count": 3,
   "id": "69f76038-e7a1-4145-916a-d4cab4bd3dc6",
   "metadata": {},
   "outputs": [
    {
     "name": "stdout",
     "output_type": "stream",
     "text": [
      "Filtered CMEs saved to 'likely_earth_directed_cmes.csv'\n",
      "      CME               t0   pa   da     v  minv  maxv halo?\n",
      "8       9   1/2/2024 11:12  248  118   558   249   976    II\n",
      "47     48   1/9/2024 15:24  144  126   504   192   844    II\n",
      "77     78  1/12/2024 22:12  127   96   496   176   919    II\n",
      "91     92  1/14/2024 12:00  265  108   762   216  1249    II\n",
      "120   121   1/20/2024 9:12  125  132   651   202  1275    II\n",
      "...   ...              ...  ...  ...   ...   ...   ...   ...\n",
      "2464   80   3/19/2025 8:12  183  152  1349   351  2016    II\n",
      "2524  140  3/28/2025 15:24  144  360  1644   328  1953    IV\n",
      "2622   76   4/13/2025 7:00  175  228   416   150   637   III\n",
      "2650  104   4/19/2025 0:00  158   98   512   218   801    II\n",
      "2866  153  5/30/2025 23:48  188  230   822   206  1967   III\n",
      "\n",
      "[90 rows x 8 columns]\n"
     ]
    }
   ],
   "source": [
    "# step1:\n",
    "import pandas as pd\n",
    "file_path = 'cme_data_2024_onwards.csv'  # Update path if needed\n",
    "df = pd.read_csv(file_path)\n",
    "df['halo?'] = df['halo?'].astype(str).str.strip()\n",
    "velocity_columns = ['v', 'minv', 'maxv']\n",
    "for col in velocity_columns:\n",
    "    df[col] = pd.to_numeric(df[col], errors='coerce')\n",
    "filtered_df = df[\n",
    "    (df['halo?'].isin(['II', 'III', 'IV'])) &  # Halo or Partial Halo\n",
    "    (df['v'] > 400) &                          # Median speed > 400 km/s\n",
    "    (df['maxv'] > df['minv'])  &        # Positive acceleration\n",
    "    (df['pa'].between(90, 270))                # Earth-directed angle range\n",
    "]\n",
    "\n",
    "filtered_df.to_csv(\"likely_earth_directed_cmes.csv\", index=False)\n",
    "print(\"Filtered CMEs saved to 'likely_earth_directed_cmes.csv'\")\n",
    "print(filtered_df[['CME', 't0', 'pa', 'da', 'v', 'minv', 'maxv', 'halo?']])\n"
   ]
  },
  {
   "cell_type": "code",
   "execution_count": 8,
   "id": "b05c1bd8-874a-4eb0-a758-0c97f3a0ff9b",
   "metadata": {},
   "outputs": [
    {
     "name": "stdout",
     "output_type": "stream",
     "text": [
      "     LASCO_CME_UT_clean   Disturbance_UT    ICME_start_UT V_transit_km_s\n",
      "634 2024-08-07 03:24:00  2024/08/10 1250  2024/08/11 1200          >=510\n",
      "635 2024-08-14 08:24:00  2024/08/17 1423  2024/08/17 1700            530\n",
      "636 2024-08-23 02:00:00  2024/08/27 0841  2024/08/27 1600            400\n",
      "640 2024-10-03 12:48:00  2024/10/06 0739  2024/10/06 1400            620\n",
      "641 2024-10-03 20:36:00  2024/10/08 0000  2024/10/08 0000        420-450\n",
      "642 2024-10-08 06:12:00  2024/10/10 1514  2024/10/10 2200       730-1120\n",
      "644 2024-11-25 03:12:00  2024/11/29 0305  2024/11/29 1700        430-540\n",
      "645 2024-12-15 01:25:00  2024/12/17 0517  2024/12/17 0800        800-850\n",
      "646 2024-12-29 01:23:00  2024/12/31 1623  2025/01/01 1000        660-900\n"
     ]
    }
   ],
   "source": [
    "import pandas as pd\n",
    "import requests\n",
    "from datetime import datetime\n",
    "\n",
    "# Step 1: Download ICME table\n",
    "url = \"https://izw1.caltech.edu/ACE/ASC/DATA/level3/icmetable2.htm\"\n",
    "response = requests.get(url)\n",
    "response.raise_for_status()\n",
    "tables = pd.read_html(response.text, header=1)\n",
    "\n",
    "# Step 2: Load main table\n",
    "df = tables[0]\n",
    "df.columns = [str(col).strip() for col in df.columns]\n",
    "\n",
    "# Step 3: Rename relevant columns\n",
    "df.rename(columns={\n",
    "    'LASCO CME Y/M/D (UT) (o)': 'LASCO_CME_UT',\n",
    "    'Disturbance Y/M/D (UT) (a)': 'Disturbance_UT',\n",
    "    'ICME Plasma/Field Start, End Y/M/D (UT) (b)': 'ICME_start_UT',\n",
    "    'V_transit (km/s) (n)': 'V_transit_km_s',\n",
    "}, inplace=True)\n",
    "\n",
    "# Step 4: Robust date extraction function\n",
    "def extract_first_date(text):\n",
    "    if pd.isna(text) or not isinstance(text, str):\n",
    "        return None\n",
    "    try:\n",
    "        # Extract first date-time like string\n",
    "        parts = text.split(',')[0].strip().split()\n",
    "        if len(parts) < 2:\n",
    "            return None\n",
    "        date_part, time_part = parts[0], parts[1][:4]  # Keep only HHMM\n",
    "        return datetime.strptime(date_part + ' ' + time_part, '%Y/%m/%d %H%M')\n",
    "    except:\n",
    "        return None\n",
    "\n",
    "# Step 5: Apply parsing\n",
    "df['LASCO_CME_UT_clean'] = df['LASCO_CME_UT'].apply(extract_first_date)\n",
    "\n",
    "# Step 6: Filter for August 2024 onward\n",
    "cutoff = datetime(2024, 8, 1)\n",
    "filtered = df[df['LASCO_CME_UT_clean'] >= cutoff]\n",
    "\n",
    "# Step 7: Show result\n",
    "print(filtered[['LASCO_CME_UT_clean', 'Disturbance_UT', 'ICME_start_UT', 'V_transit_km_s']])\n",
    "\n",
    "# Step 8: Save to CSV if needed\n",
    "filtered.to_csv(\"CME_Events_Aug_2024_Onward.csv\", index=False)\n"
   ]
  },
  {
   "cell_type": "code",
   "execution_count": null,
   "id": "369206ab-52c6-4016-b104-9a3c8f2b1ad9",
   "metadata": {},
   "outputs": [],
   "source": []
  },
  {
   "cell_type": "code",
   "execution_count": null,
   "id": "989badb1-4c2b-4977-bfef-cf558f794faf",
   "metadata": {},
   "outputs": [],
   "source": []
  },
  {
   "cell_type": "code",
   "execution_count": null,
   "id": "900a0075-448d-4aac-bf0e-ca2c7be3bd09",
   "metadata": {},
   "outputs": [],
   "source": []
  },
  {
   "cell_type": "code",
   "execution_count": null,
   "id": "44d14b42-41e4-41eb-949e-106320a472be",
   "metadata": {},
   "outputs": [],
   "source": []
  },
  {
   "cell_type": "code",
   "execution_count": null,
   "id": "5388779b-87c7-43a1-a0bb-8aaf4e120bfd",
   "metadata": {},
   "outputs": [],
   "source": []
  },
  {
   "cell_type": "code",
   "execution_count": null,
   "id": "567b04f1-18a9-4994-a0ea-b41dce51f4d5",
   "metadata": {},
   "outputs": [],
   "source": []
  },
  {
   "cell_type": "code",
   "execution_count": null,
   "id": "ce1ad65f-8d06-4099-b677-ddd317e7531c",
   "metadata": {},
   "outputs": [],
   "source": []
  },
  {
   "cell_type": "code",
   "execution_count": null,
   "id": "b52a46e1-baf7-4072-a7b5-fd14384ba87a",
   "metadata": {},
   "outputs": [],
   "source": []
  },
  {
   "cell_type": "code",
   "execution_count": null,
   "id": "8d1e2efe-955d-451c-acd6-65d2bdb4e759",
   "metadata": {},
   "outputs": [],
   "source": []
  },
  {
   "cell_type": "code",
   "execution_count": null,
   "id": "1bbd032d-801e-4f11-b665-75ee4d8fe158",
   "metadata": {},
   "outputs": [],
   "source": []
  },
  {
   "cell_type": "code",
   "execution_count": null,
   "id": "a094296a-9fec-4dab-a964-29f961b03c33",
   "metadata": {},
   "outputs": [],
   "source": []
  },
  {
   "cell_type": "code",
   "execution_count": null,
   "id": "dc47da85-5209-471a-b54d-9c8d208c1f84",
   "metadata": {},
   "outputs": [],
   "source": []
  },
  {
   "cell_type": "code",
   "execution_count": null,
   "id": "2e03b8bb-ad76-40dc-af19-45e245a1e28e",
   "metadata": {},
   "outputs": [],
   "source": []
  },
  {
   "cell_type": "code",
   "execution_count": null,
   "id": "1701c02c-9caa-4c72-b871-489283c99a8d",
   "metadata": {},
   "outputs": [],
   "source": []
  },
  {
   "cell_type": "code",
   "execution_count": null,
   "id": "43981cd0-4b00-45e2-82e9-871225e13c51",
   "metadata": {},
   "outputs": [],
   "source": []
  },
  {
   "cell_type": "code",
   "execution_count": null,
   "id": "57ab59f9-464e-41ae-b724-227b4516b2fb",
   "metadata": {},
   "outputs": [],
   "source": []
  }
 ],
 "metadata": {
  "kernelspec": {
   "display_name": "Python 3 (ipykernel)",
   "language": "python",
   "name": "python3"
  },
  "language_info": {
   "codemirror_mode": {
    "name": "ipython",
    "version": 3
   },
   "file_extension": ".py",
   "mimetype": "text/x-python",
   "name": "python",
   "nbconvert_exporter": "python",
   "pygments_lexer": "ipython3",
   "version": "3.9.16"
  }
 },
 "nbformat": 4,
 "nbformat_minor": 5
}
